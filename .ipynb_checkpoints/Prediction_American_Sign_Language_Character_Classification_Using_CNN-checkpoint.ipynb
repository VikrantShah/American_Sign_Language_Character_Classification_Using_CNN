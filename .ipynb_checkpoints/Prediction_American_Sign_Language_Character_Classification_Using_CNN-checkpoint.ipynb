{
 "cells": [
  {
   "cell_type": "markdown",
   "metadata": {},
   "source": [
    "# Importing the libraries"
   ]
  },
  {
   "cell_type": "code",
   "execution_count": 1,
   "metadata": {},
   "outputs": [
    {
     "name": "stderr",
     "output_type": "stream",
     "text": [
      "Using TensorFlow backend.\n"
     ]
    }
   ],
   "source": [
    "from keras.models import model_from_json\n",
    "from keras.preprocessing import image\n",
    "import numpy as np\n",
    "import os"
   ]
  },
  {
   "cell_type": "markdown",
   "metadata": {},
   "source": [
    "# Loading the model"
   ]
  },
  {
   "cell_type": "code",
   "execution_count": 2,
   "metadata": {},
   "outputs": [],
   "source": [
    "json_file = open(\"model.json\", \"r\")\n",
    "model_json = json_file.read()\n",
    "json_file.close()\n",
    "\n",
    "model = model_from_json(model_json)"
   ]
  },
  {
   "cell_type": "markdown",
   "metadata": {},
   "source": [
    "# Loading the weights into model"
   ]
  },
  {
   "cell_type": "code",
   "execution_count": 3,
   "metadata": {},
   "outputs": [],
   "source": [
    "model.load_weights(\"model.h5\")"
   ]
  },
  {
   "cell_type": "markdown",
   "metadata": {},
   "source": [
    "# Predicting the results for the Test set"
   ]
  },
  {
   "cell_type": "code",
   "execution_count": 4,
   "metadata": {},
   "outputs": [
    {
     "name": "stdout",
     "output_type": "stream",
     "text": [
      "['A', 'B', 'C', 'D', 'E', 'F', 'G', 'H', 'I', 'J', 'K', 'L', 'M', 'N', 'O', 'P', 'Q', 'R', 'S', 'T', 'U', 'V', 'W', 'X', 'Y', 'Z']\n"
     ]
    }
   ],
   "source": [
    "classes = [chr(i) for i in range(65, 91)]\n",
    "print(classes)"
   ]
  },
  {
   "cell_type": "code",
   "execution_count": 5,
   "metadata": {},
   "outputs": [],
   "source": [
    "def classify(img_path) :\n",
    "    # print(img_path)\n",
    "    test_image = image.load_img(img_path, target_size = (100, 100))\n",
    "    \n",
    "    test_image = image.img_to_array(test_image)\n",
    "    test_image = np.expand_dims(test_image, axis = 0)\n",
    "    \n",
    "    result = model.predict(test_image)\n",
    "    \n",
    "    result_arr = np.array(result[0])\n",
    "    print(result_arr)\n",
    "    maxx = np.amax(result_arr)\n",
    "    # print(maxx)\n",
    "    max_prob = result_arr.argmax(axis = 0)\n",
    "    # print(max_prob)\n",
    "    prediction = classes[max_prob]\n",
    "    \n",
    "    print(prediction, img_path)"
   ]
  },
  {
   "cell_type": "code",
   "execution_count": 6,
   "metadata": {},
   "outputs": [
    {
     "name": "stdout",
     "output_type": "stream",
     "text": [
      "A C:\\American_Sign_Language_Character_Classification_Using_CNN\\Dataset\\test\\A\\164.jpg\n",
      "B C:\\American_Sign_Language_Character_Classification_Using_CNN\\Dataset\\test\\B\\058.jpg\n",
      "C C:\\American_Sign_Language_Character_Classification_Using_CNN\\Dataset\\test\\C\\164.jpg\n",
      "D C:\\American_Sign_Language_Character_Classification_Using_CNN\\Dataset\\test\\D\\029.jpg\n",
      "E C:\\American_Sign_Language_Character_Classification_Using_CNN\\Dataset\\test\\E\\164.jpg\n",
      "C C:\\American_Sign_Language_Character_Classification_Using_CNN\\Dataset\\test\\F\\164.jpg\n",
      "G C:\\American_Sign_Language_Character_Classification_Using_CNN\\Dataset\\test\\G\\164.jpg\n",
      "H C:\\American_Sign_Language_Character_Classification_Using_CNN\\Dataset\\test\\H\\082.jpg\n",
      "X C:\\American_Sign_Language_Character_Classification_Using_CNN\\Dataset\\test\\I\\164.jpg\n",
      "C C:\\American_Sign_Language_Character_Classification_Using_CNN\\Dataset\\test\\L\\164.jpg\n",
      "L C:\\American_Sign_Language_Character_Classification_Using_CNN\\Dataset\\test\\N\\164.jpg\n",
      "N C:\\American_Sign_Language_Character_Classification_Using_CNN\\Dataset\\test\\O\\164.jpg\n",
      "G C:\\American_Sign_Language_Character_Classification_Using_CNN\\Dataset\\test\\P\\164.jpg\n",
      "P C:\\American_Sign_Language_Character_Classification_Using_CNN\\Dataset\\test\\Q\\188.jpg\n",
      "J C:\\American_Sign_Language_Character_Classification_Using_CNN\\Dataset\\test\\R\\196.jpg\n",
      "A C:\\American_Sign_Language_Character_Classification_Using_CNN\\Dataset\\test\\S\\179.jpg\n",
      "S C:\\American_Sign_Language_Character_Classification_Using_CNN\\Dataset\\test\\T\\183.jpg\n",
      "O C:\\American_Sign_Language_Character_Classification_Using_CNN\\Dataset\\test\\V\\091.jpg\n",
      "E C:\\American_Sign_Language_Character_Classification_Using_CNN\\Dataset\\test\\W\\045.jpg\n",
      "C C:\\American_Sign_Language_Character_Classification_Using_CNN\\Dataset\\test\\X\\190.jpg\n",
      "X C:\\American_Sign_Language_Character_Classification_Using_CNN\\Dataset\\test\\Y\\164.jpg\n"
     ]
    }
   ],
   "source": [
    "path = r\"C:\\American_Sign_Language_Character_Classification_Using_CNN\\Dataset\\test\"\n",
    "\n",
    "files = []\n",
    "for r, d, f in os.walk(path) :\n",
    "    # r : root, d : directories, f : files\n",
    "    for file in f :\n",
    "        if \".jpg\" in file or \".JPG\" in file :\n",
    "            files.append(os.path.join(r, file))\n",
    "         \n",
    "for file in files :\n",
    "    classify(file)"
   ]
  },
  {
   "cell_type": "code",
   "execution_count": null,
   "metadata": {},
   "outputs": [],
   "source": []
  }
 ],
 "metadata": {
  "kernelspec": {
   "display_name": "Python 3",
   "language": "python",
   "name": "python3"
  },
  "language_info": {
   "codemirror_mode": {
    "name": "ipython",
    "version": 3
   },
   "file_extension": ".py",
   "mimetype": "text/x-python",
   "name": "python",
   "nbconvert_exporter": "python",
   "pygments_lexer": "ipython3",
   "version": "3.7.6"
  }
 },
 "nbformat": 4,
 "nbformat_minor": 4
}
