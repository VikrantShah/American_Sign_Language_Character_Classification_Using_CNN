{
 "cells": [
  {
   "cell_type": "markdown",
   "metadata": {},
   "source": [
    "# Importing the libraries"
   ]
  },
  {
   "cell_type": "code",
   "execution_count": 1,
   "metadata": {},
   "outputs": [
    {
     "name": "stderr",
     "output_type": "stream",
     "text": [
      "Using TensorFlow backend.\n"
     ]
    }
   ],
   "source": [
    "from keras.preprocessing.image import ImageDataGenerator\n",
    "from keras.models import Sequential\n",
    "from keras.layers import Conv2D\n",
    "from keras.layers import MaxPooling2D\n",
    "from keras.layers import Flatten\n",
    "from keras.layers import Dense\n",
    "from keras.layers import Dropout\n",
    "from keras.callbacks import EarlyStopping\n",
    "from keras.callbacks import ModelCheckpoint\n",
    "import matplotlib.pyplot as plt"
   ]
  },
  {
   "cell_type": "markdown",
   "metadata": {},
   "source": [
    "# Getting and Loading the Training and Validation set"
   ]
  },
  {
   "cell_type": "code",
   "execution_count": 2,
   "metadata": {},
   "outputs": [],
   "source": [
    "train_path = r\"C:\\American_Sign_Language_Character_Classification_Using_CNN\\dataset\\train\"\n",
    "validation_path = r\"C:\\American_Sign_Language_Character_Classification_Using_CNN\\dataset\\val\""
   ]
  },
  {
   "cell_type": "code",
   "execution_count": 3,
   "metadata": {},
   "outputs": [],
   "source": [
    "train_datagen = ImageDataGenerator(rescale = 1./255,\n",
    "                                  rotation_range = 40.,\n",
    "                                  width_shift_range = 0.2,\n",
    "                                  height_shift_range = 0.2,\n",
    "                                  shear_range = 0.2,\n",
    "                                  zoom_range = 0.2,\n",
    "                                  horizontal_flip = True)\n",
    "\n",
    "validation_datagen = ImageDataGenerator(rescale = 1./255)"
   ]
  },
  {
   "cell_type": "code",
   "execution_count": 4,
   "metadata": {},
   "outputs": [
    {
     "name": "stdout",
     "output_type": "stream",
     "text": [
      "Found 3966 images belonging to 24 classes.\n",
      "Found 985 images belonging to 24 classes.\n"
     ]
    }
   ],
   "source": [
    "training_set = train_datagen.flow_from_directory(train_path,\n",
    "                                                target_size = (100, 100),\n",
    "                                                batch_size = 32,\n",
    "                                                class_mode = \"categorical\")\n",
    "\n",
    "validation_set = validation_datagen.flow_from_directory(validation_path,\n",
    "                                                       target_size = (100, 100),\n",
    "                                                       batch_size = 32,\n",
    "                                                       class_mode = \"categorical\")"
   ]
  },
  {
   "cell_type": "markdown",
   "metadata": {},
   "source": [
    "# Building the CNN"
   ]
  },
  {
   "cell_type": "markdown",
   "metadata": {},
   "source": [
    "## Initalizing the CNN"
   ]
  },
  {
   "cell_type": "code",
   "execution_count": 5,
   "metadata": {},
   "outputs": [],
   "source": [
    "model = Sequential()"
   ]
  },
  {
   "cell_type": "markdown",
   "metadata": {},
   "source": [
    "## Adding the Layers"
   ]
  },
  {
   "cell_type": "markdown",
   "metadata": {},
   "source": [
    "### Adding the First Convolutional and Pooling layer"
   ]
  },
  {
   "cell_type": "code",
   "execution_count": 6,
   "metadata": {},
   "outputs": [],
   "source": [
    "model.add(Conv2D(32, (3, 3), input_shape = (100, 100, 3), activation = \"relu\"))\n",
    "model.add(MaxPooling2D(pool_size = (2, 2)))"
   ]
  },
  {
   "cell_type": "markdown",
   "metadata": {},
   "source": [
    "### Adding the Second Convolutional and Pooling layer"
   ]
  },
  {
   "cell_type": "code",
   "execution_count": 7,
   "metadata": {},
   "outputs": [],
   "source": [
    "model.add(Conv2D(64, (3, 3), activation = \"relu\"))\n",
    "model.add(MaxPooling2D(pool_size = (2, 2)))"
   ]
  },
  {
   "cell_type": "markdown",
   "metadata": {},
   "source": [
    "### Adding the Third Convolutional and Pooling layer"
   ]
  },
  {
   "cell_type": "code",
   "execution_count": 8,
   "metadata": {},
   "outputs": [],
   "source": [
    "model.add(Conv2D(64, (3, 3), activation = \"relu\"))\n",
    "model.add(MaxPooling2D(pool_size = (2, 2)))"
   ]
  },
  {
   "cell_type": "markdown",
   "metadata": {},
   "source": [
    "### Adding the Forth Convolutional and Pooling layer"
   ]
  },
  {
   "cell_type": "code",
   "execution_count": 9,
   "metadata": {},
   "outputs": [],
   "source": [
    "model.add(Conv2D(128, (3, 3), activation = \"relu\"))\n",
    "model.add(MaxPooling2D(pool_size = (2, 2)))"
   ]
  },
  {
   "cell_type": "markdown",
   "metadata": {},
   "source": [
    "### Adding the Fifth Convolutional and Pooling layer"
   ]
  },
  {
   "cell_type": "code",
   "execution_count": 10,
   "metadata": {},
   "outputs": [],
   "source": [
    "model.add(Conv2D(256, (3, 3), activation = \"relu\"))\n",
    "model.add(MaxPooling2D(pool_size = (2, 2)))"
   ]
  },
  {
   "cell_type": "markdown",
   "metadata": {},
   "source": [
    "### Flattening all the layers"
   ]
  },
  {
   "cell_type": "code",
   "execution_count": 11,
   "metadata": {},
   "outputs": [],
   "source": [
    "model.add(Flatten())"
   ]
  },
  {
   "cell_type": "markdown",
   "metadata": {},
   "source": [
    "### Adding the First Fully Connected Layer"
   ]
  },
  {
   "cell_type": "code",
   "execution_count": 12,
   "metadata": {},
   "outputs": [],
   "source": [
    "model.add(Dense(units = 128, activation = \"relu\"))"
   ]
  },
  {
   "cell_type": "markdown",
   "metadata": {},
   "source": [
    "### Adding the Second Fully Connected and Dropout Layer"
   ]
  },
  {
   "cell_type": "code",
   "execution_count": 13,
   "metadata": {},
   "outputs": [],
   "source": [
    "model.add(Dense(units = 256, activation = \"relu\"))\n",
    "model.add(Dropout(0.1))"
   ]
  },
  {
   "cell_type": "markdown",
   "metadata": {},
   "source": [
    "### Adding the Final Fully Connected Layer"
   ]
  },
  {
   "cell_type": "code",
   "execution_count": 14,
   "metadata": {},
   "outputs": [],
   "source": [
    "model.add(Dense(units = 24, activation = \"softmax\"))"
   ]
  },
  {
   "cell_type": "markdown",
   "metadata": {},
   "source": [
    "## Compiling the CNN"
   ]
  },
  {
   "cell_type": "code",
   "execution_count": 15,
   "metadata": {},
   "outputs": [],
   "source": [
    "model.compile(optimizer = \"adam\", loss = \"categorical_crossentropy\", metrics = [\"accuracy\"])"
   ]
  },
  {
   "cell_type": "markdown",
   "metadata": {},
   "source": [
    "# Showing the model summary"
   ]
  },
  {
   "cell_type": "code",
   "execution_count": 16,
   "metadata": {},
   "outputs": [
    {
     "name": "stdout",
     "output_type": "stream",
     "text": [
      "Model: \"sequential_1\"\n",
      "_________________________________________________________________\n",
      "Layer (type)                 Output Shape              Param #   \n",
      "=================================================================\n",
      "conv2d_1 (Conv2D)            (None, 98, 98, 32)        896       \n",
      "_________________________________________________________________\n",
      "max_pooling2d_1 (MaxPooling2 (None, 49, 49, 32)        0         \n",
      "_________________________________________________________________\n",
      "conv2d_2 (Conv2D)            (None, 47, 47, 64)        18496     \n",
      "_________________________________________________________________\n",
      "max_pooling2d_2 (MaxPooling2 (None, 23, 23, 64)        0         \n",
      "_________________________________________________________________\n",
      "conv2d_3 (Conv2D)            (None, 21, 21, 64)        36928     \n",
      "_________________________________________________________________\n",
      "max_pooling2d_3 (MaxPooling2 (None, 10, 10, 64)        0         \n",
      "_________________________________________________________________\n",
      "conv2d_4 (Conv2D)            (None, 8, 8, 128)         73856     \n",
      "_________________________________________________________________\n",
      "max_pooling2d_4 (MaxPooling2 (None, 4, 4, 128)         0         \n",
      "_________________________________________________________________\n",
      "conv2d_5 (Conv2D)            (None, 2, 2, 256)         295168    \n",
      "_________________________________________________________________\n",
      "max_pooling2d_5 (MaxPooling2 (None, 1, 1, 256)         0         \n",
      "_________________________________________________________________\n",
      "flatten_1 (Flatten)          (None, 256)               0         \n",
      "_________________________________________________________________\n",
      "dense_1 (Dense)              (None, 128)               32896     \n",
      "_________________________________________________________________\n",
      "dense_2 (Dense)              (None, 256)               33024     \n",
      "_________________________________________________________________\n",
      "dropout_1 (Dropout)          (None, 256)               0         \n",
      "_________________________________________________________________\n",
      "dense_3 (Dense)              (None, 24)                6168      \n",
      "=================================================================\n",
      "Total params: 497,432\n",
      "Trainable params: 497,432\n",
      "Non-trainable params: 0\n",
      "_________________________________________________________________\n"
     ]
    }
   ],
   "source": [
    "model.summary()"
   ]
  },
  {
   "cell_type": "markdown",
   "metadata": {},
   "source": [
    "# Training the CNN"
   ]
  },
  {
   "cell_type": "code",
   "execution_count": 17,
   "metadata": {},
   "outputs": [],
   "source": [
    "# Saving the best model only\n",
    "checkpoint = ModelCheckpoint(filepath = \"model.h5\",\n",
    "                            monitor = \"val_loss\",\n",
    "                            save_best_only = True, \n",
    "                            verbose = 1)"
   ]
  },
  {
   "cell_type": "code",
   "execution_count": 18,
   "metadata": {},
   "outputs": [
    {
     "data": {
      "text/plain": [
       "'early_stopping = EarlyStopping(monitor = \"val_loss\",\\n                              patience = 10,\\n                              verbose = 1,\\n                              restore_best_weights = True)\\n                              '"
      ]
     },
     "execution_count": 18,
     "metadata": {},
     "output_type": "execute_result"
    }
   ],
   "source": [
    "\"\"\"early_stopping = EarlyStopping(monitor = \"val_loss\",\n",
    "                              patience = 10,\n",
    "                              verbose = 1,\n",
    "                              restore_best_weights = True)\n",
    "                              \"\"\""
   ]
  },
  {
   "cell_type": "markdown",
   "metadata": {},
   "source": [
    "## Calculating the steps_per_epoch and validation_steps"
   ]
  },
  {
   "cell_type": "code",
   "execution_count": 19,
   "metadata": {},
   "outputs": [],
   "source": [
    "import math\n",
    "\n",
    "batch_size = 32\n",
    "training_size = 3966  \n",
    "validation_size = 985\n",
    "\n",
    "compute_steps_per_epoch = lambda x : int(math.ceil(1. * x / batch_size))\n",
    "\n",
    "steps_per_epoch = compute_steps_per_epoch(training_size)\n",
    "validation_steps = compute_steps_per_epoch(validation_size)"
   ]
  },
  {
   "cell_type": "code",
   "execution_count": 20,
   "metadata": {},
   "outputs": [
    {
     "name": "stdout",
     "output_type": "stream",
     "text": [
      "Epoch 1/30\n",
      "124/124 [==============================] - 57s 463ms/step - loss: 2.9263 - accuracy: 0.0850 - val_loss: 2.4416 - val_accuracy: 0.1421\n",
      "\n",
      "Epoch 00001: val_loss improved from inf to 2.44159, saving model to model.h5\n",
      "Epoch 2/30\n",
      "124/124 [==============================] - 51s 411ms/step - loss: 2.2769 - accuracy: 0.2110 - val_loss: 1.8468 - val_accuracy: 0.2457\n",
      "\n",
      "Epoch 00002: val_loss improved from 2.44159 to 1.84684, saving model to model.h5\n",
      "Epoch 3/30\n",
      "124/124 [==============================] - 51s 413ms/step - loss: 1.7672 - accuracy: 0.3626 - val_loss: 1.5013 - val_accuracy: 0.6183\n",
      "\n",
      "Epoch 00003: val_loss improved from 1.84684 to 1.50128, saving model to model.h5\n",
      "Epoch 4/30\n",
      "124/124 [==============================] - 51s 409ms/step - loss: 1.2898 - accuracy: 0.5285 - val_loss: 1.3469 - val_accuracy: 0.5594\n",
      "\n",
      "Epoch 00004: val_loss improved from 1.50128 to 1.34694, saving model to model.h5\n",
      "Epoch 5/30\n",
      "124/124 [==============================] - 55s 443ms/step - loss: 1.0500 - accuracy: 0.6304 - val_loss: 0.5721 - val_accuracy: 0.7594\n",
      "\n",
      "Epoch 00005: val_loss improved from 1.34694 to 0.57207, saving model to model.h5\n",
      "Epoch 6/30\n",
      "124/124 [==============================] - 56s 450ms/step - loss: 0.7605 - accuracy: 0.7264 - val_loss: 0.8846 - val_accuracy: 0.7635\n",
      "\n",
      "Epoch 00006: val_loss did not improve from 0.57207\n",
      "Epoch 7/30\n",
      "124/124 [==============================] - 65s 523ms/step - loss: 0.6056 - accuracy: 0.7799 - val_loss: 0.8773 - val_accuracy: 0.7340\n",
      "\n",
      "Epoch 00007: val_loss did not improve from 0.57207\n",
      "Epoch 8/30\n",
      "124/124 [==============================] - 66s 530ms/step - loss: 0.5474 - accuracy: 0.8069 - val_loss: 0.4297 - val_accuracy: 0.8284\n",
      "\n",
      "Epoch 00008: val_loss improved from 0.57207 to 0.42968, saving model to model.h5\n",
      "Epoch 9/30\n",
      "124/124 [==============================] - 65s 525ms/step - loss: 0.4364 - accuracy: 0.8447 - val_loss: 0.5647 - val_accuracy: 0.8558\n",
      "\n",
      "Epoch 00009: val_loss did not improve from 0.42968\n",
      "Epoch 10/30\n",
      "124/124 [==============================] - 63s 510ms/step - loss: 0.3982 - accuracy: 0.8628 - val_loss: 0.1474 - val_accuracy: 0.8640\n",
      "\n",
      "Epoch 00010: val_loss improved from 0.42968 to 0.14738, saving model to model.h5\n",
      "Epoch 11/30\n",
      "124/124 [==============================] - 63s 507ms/step - loss: 0.3301 - accuracy: 0.8850 - val_loss: 0.1179 - val_accuracy: 0.9513\n",
      "\n",
      "Epoch 00011: val_loss improved from 0.14738 to 0.11794, saving model to model.h5\n",
      "Epoch 12/30\n",
      "124/124 [==============================] - 63s 506ms/step - loss: 0.2987 - accuracy: 0.8944 - val_loss: 0.3620 - val_accuracy: 0.9310\n",
      "\n",
      "Epoch 00012: val_loss did not improve from 0.11794\n",
      "Epoch 13/30\n",
      "124/124 [==============================] - 62s 501ms/step - loss: 0.2822 - accuracy: 0.9014 - val_loss: 0.1225 - val_accuracy: 0.9431\n",
      "\n",
      "Epoch 00013: val_loss did not improve from 0.11794\n",
      "Epoch 14/30\n",
      "124/124 [==============================] - 59s 479ms/step - loss: 0.2254 - accuracy: 0.9201 - val_loss: 0.0802 - val_accuracy: 0.9320\n",
      "\n",
      "Epoch 00014: val_loss improved from 0.11794 to 0.08021, saving model to model.h5\n",
      "Epoch 15/30\n",
      "124/124 [==============================] - 57s 462ms/step - loss: 0.2553 - accuracy: 0.9178 - val_loss: 0.2183 - val_accuracy: 0.9726\n",
      "\n",
      "Epoch 00015: val_loss did not improve from 0.08021\n",
      "Epoch 16/30\n",
      "124/124 [==============================] - 67s 538ms/step - loss: 0.2159 - accuracy: 0.9294 - val_loss: 0.0573 - val_accuracy: 0.9756\n",
      "\n",
      "Epoch 00016: val_loss improved from 0.08021 to 0.05730, saving model to model.h5\n",
      "Epoch 17/30\n",
      "124/124 [==============================] - 55s 441ms/step - loss: 0.1821 - accuracy: 0.9375 - val_loss: 0.3369 - val_accuracy: 0.9371\n",
      "\n",
      "Epoch 00017: val_loss did not improve from 0.05730\n",
      "Epoch 18/30\n",
      "124/124 [==============================] - 54s 435ms/step - loss: 0.1855 - accuracy: 0.9387 - val_loss: 0.0088 - val_accuracy: 0.9756\n",
      "\n",
      "Epoch 00018: val_loss improved from 0.05730 to 0.00875, saving model to model.h5\n",
      "Epoch 19/30\n",
      "124/124 [==============================] - 54s 438ms/step - loss: 0.1730 - accuracy: 0.9465 - val_loss: 0.0145 - val_accuracy: 0.9584\n",
      "\n",
      "Epoch 00019: val_loss did not improve from 0.00875\n",
      "Epoch 20/30\n",
      "124/124 [==============================] - 55s 440ms/step - loss: 0.1492 - accuracy: 0.9511 - val_loss: 0.3624 - val_accuracy: 0.9655\n",
      "\n",
      "Epoch 00020: val_loss did not improve from 0.00875\n",
      "Epoch 21/30\n",
      "124/124 [==============================] - 63s 505ms/step - loss: 0.1643 - accuracy: 0.9450 - val_loss: 0.0676 - val_accuracy: 0.9624\n",
      "\n",
      "Epoch 00021: val_loss did not improve from 0.00875\n",
      "Epoch 22/30\n",
      "124/124 [==============================] - 69s 556ms/step - loss: 0.1252 - accuracy: 0.9607 - val_loss: 0.0161 - val_accuracy: 0.9756\n",
      "\n",
      "Epoch 00022: val_loss did not improve from 0.00875\n",
      "Epoch 23/30\n",
      "124/124 [==============================] - 66s 536ms/step - loss: 0.1792 - accuracy: 0.9367 - val_loss: 0.4223 - val_accuracy: 0.9168\n",
      "\n",
      "Epoch 00023: val_loss did not improve from 0.00875\n",
      "Epoch 24/30\n",
      "124/124 [==============================] - 65s 520ms/step - loss: 0.1230 - accuracy: 0.9622 - val_loss: 0.0085 - val_accuracy: 0.9868\n",
      "\n",
      "Epoch 00024: val_loss improved from 0.00875 to 0.00852, saving model to model.h5\n",
      "Epoch 25/30\n",
      "124/124 [==============================] - 62s 503ms/step - loss: 0.1105 - accuracy: 0.9634 - val_loss: 3.3183e-04 - val_accuracy: 0.9888\n",
      "\n",
      "Epoch 00025: val_loss improved from 0.00852 to 0.00033, saving model to model.h5\n",
      "Epoch 26/30\n",
      "124/124 [==============================] - 63s 505ms/step - loss: 0.1318 - accuracy: 0.9599 - val_loss: 0.0182 - val_accuracy: 0.9970\n",
      "\n",
      "Epoch 00026: val_loss did not improve from 0.00033\n",
      "Epoch 27/30\n",
      "124/124 [==============================] - 61s 494ms/step - loss: 0.1084 - accuracy: 0.9629 - val_loss: 0.0297 - val_accuracy: 0.9959\n",
      "\n",
      "Epoch 00027: val_loss did not improve from 0.00033\n",
      "Epoch 28/30\n",
      "124/124 [==============================] - 61s 491ms/step - loss: 0.0955 - accuracy: 0.9697 - val_loss: 0.0243 - val_accuracy: 0.9827\n",
      "\n",
      "Epoch 00028: val_loss did not improve from 0.00033\n",
      "Epoch 29/30\n",
      "124/124 [==============================] - 65s 525ms/step - loss: 0.1126 - accuracy: 0.9627 - val_loss: 0.0222 - val_accuracy: 0.9858\n",
      "\n",
      "Epoch 00029: val_loss did not improve from 0.00033\n",
      "Epoch 30/30\n",
      "124/124 [==============================] - 61s 493ms/step - loss: 0.1104 - accuracy: 0.9660 - val_loss: 3.4044e-05 - val_accuracy: 0.9868\n",
      "\n",
      "Epoch 00030: val_loss improved from 0.00033 to 0.00003, saving model to model.h5\n"
     ]
    }
   ],
   "source": [
    "history = model.fit_generator(training_set,\n",
    "                             steps_per_epoch = steps_per_epoch,\n",
    "                             epochs = 30,\n",
    "                             validation_data = validation_set,\n",
    "                             validation_steps = validation_steps,\n",
    "                             callbacks = [checkpoint], \n",
    "                             shuffle = True)"
   ]
  },
  {
   "cell_type": "markdown",
   "metadata": {},
   "source": [
    "# Saving the model"
   ]
  },
  {
   "cell_type": "code",
   "execution_count": 21,
   "metadata": {},
   "outputs": [],
   "source": [
    "model_json = model.to_json()\n",
    "with open(\"model.json\", \"w\") as json_file :\n",
    "    json_file.write(model_json)"
   ]
  },
  {
   "cell_type": "markdown",
   "metadata": {},
   "source": [
    "# Vsiualizing the training performance"
   ]
  },
  {
   "cell_type": "code",
   "execution_count": 22,
   "metadata": {},
   "outputs": [
    {
     "data": {
      "image/png": "[encoded data removed]",
      "text/plain": [
       "<Figure size 864x864 with 2 Axes>"
      ]
     },
     "metadata": {
      "needs_background": "light"
     },
     "output_type": "display_data"
    }
   ],
   "source": [
    "plt.figure(figsize = (12, 12))\n",
    "\n",
    "plt.subplot(2, 2, 1)\n",
    "plt.plot(history.history[\"accuracy\"], label = \"accuracy\")\n",
    "plt.plot(history.history[\"val_accuracy\"], label = \"val_accuracy\")\n",
    "plt.legend()\n",
    "plt.grid()\n",
    "plt.title(\"Accuracy Evaluation\")\n",
    "\n",
    "plt.subplot(2, 2, 2)\n",
    "plt.plot(history.history[\"loss\"], label = \"loss\")\n",
    "plt.plot(history.history[\"val_loss\"], label = \"val_loss\")\n",
    "plt.grid()\n",
    "plt.legend()\n",
    "plt.title(\"Loss Evaluation\")\n",
    "\n",
    "plt.savefig(\"model_history.jpg\")"
   ]
  },
  {
   "cell_type": "code",
   "execution_count": null,
   "metadata": {},
   "outputs": [],
   "source": []
  }
 ],
 "metadata": {
  "kernelspec": {
   "display_name": "Python 3",
   "language": "python",
   "name": "python3"
  },
  "language_info": {
   "codemirror_mode": {
    "name": "ipython",
    "version": 3
   },
   "file_extension": ".py",
   "mimetype": "text/x-python",
   "name": "python",
   "nbconvert_exporter": "python",
   "pygments_lexer": "ipython3",
   "version": "3.7.6"
  }
 },
 "nbformat": 4,
 "nbformat_minor": 4
}
